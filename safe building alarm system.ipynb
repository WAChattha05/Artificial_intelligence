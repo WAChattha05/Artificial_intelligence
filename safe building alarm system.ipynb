{
 "cells": [
  {
   "cell_type": "code",
   "execution_count": null,
   "id": "bc217b91",
   "metadata": {},
   "outputs": [],
   "source": [
    "def safe_building():\n",
    "    \n",
    "    fire_department = 0\n",
    "    sprinkle_system = 0\n",
    "    alarm = 0\n",
    "    smoke = int(input(\"Enter status of smoke (0/1): \"))\n",
    "    temperature = int(input(\"Enter value of temperature : \"))\n",
    "    # temp and smoke both detected\n",
    "    if temperature >= 0 and smoke == 1:\n",
    "        alarm = 1\n",
    "        fire_department = 1  \n",
    "        sprinkle_system = 1\n",
    "        print(f\"alram status {alarm} , Sprinkle system status {sprinkle_system} , Firer Department incoming status {fire_department}\")\n",
    "        return ;\n",
    "    # smoke is detected\n",
    "    if smoke == 1:\n",
    "        alarm = 1\n",
    "        sprinkle_system = 1\n",
    "        print(f\"alram status {alarm} . Sprinkle system status {sprinkle_system}\")\n",
    "    # temp is detected\n",
    "    if temperature > 80:\n",
    "        alarm = 1\n",
    "        fire_department = 1\n",
    "        print(f\"alram status {alarm} . Firer Department incoming status {fire_department}\")\n",
    "       \n",
    "    # temp and smoke both not detected\n",
    "    if temperature < 80 and smoke == 0:\n",
    "        alarm = 0\n",
    "        fire_department = 0  \n",
    "        sprinkle_system = 0\n",
    "        print(f\"alram status {alarm} , Sprinkle system status {sprinkle_system} , Firer Department incoming status {fire_department}\")\n",
    "        print(\"Building is safe \")\n",
    "safe_building()     "
   ]
  },
  {
   "cell_type": "code",
   "execution_count": null,
   "id": "1a611fc7",
   "metadata": {},
   "outputs": [],
   "source": [
    "def safe_building():\n",
    "    \n",
    "    fire_department = 0\n",
    "    sprinkle_system = 0\n",
    "    alarm = 0\n",
    "    smoke = int(input(\"Enter status of smoke (0/1): \"))\n",
    "    temperature = int(input(\"Enter value of temperature : \"))\n",
    "    # temp and smoke both detected\n",
    "    if temperature >= 80 and smoke == 1:\n",
    "        alarm = 1\n",
    "        fire_department = 1  \n",
    "        sprinkle_system = 1\n",
    "        print(f\"alram status {alarm} , Sprinkle system status {sprinkle_system} , Firer Department incoming status {fire_department}\")\n",
    "        print(\"Temp is high and also smoke detected \")\n",
    "    # smoke is detected\n",
    "    elif smoke == 1:\n",
    "        alarm = 1\n",
    "        sprinkle_system = 1\n",
    "        print(f\"alram status {alarm} . Sprinkle system status {sprinkle_system}\")\n",
    "        print(\" smoke detected \")\n",
    "    # temp is detected\n",
    "    elif temperature > 80:\n",
    "        alarm = 1\n",
    "        fire_department = 1\n",
    "        print(f\"alram status {alarm} . Firer Department incoming status {fire_department}\")\n",
    "        print(\"Temp is high  \")\n",
    "    # temp and smoke both not detected\n",
    "   # if temperature < 80 and smoke == 0:\n",
    "    else :\n",
    "        alarm = 0\n",
    "        fire_department = 0  \n",
    "        sprinkle_system = 0\n",
    "        print(f\"alram status {alarm} , Sprinkle system status {sprinkle_system} , Firer Department incoming status {fire_department}\")\n",
    "        print(\"Building is safe \")\n",
    "safe_building()     "
   ]
  },
  {
   "cell_type": "code",
   "execution_count": null,
   "id": "cb37d525",
   "metadata": {},
   "outputs": [],
   "source": []
  }
 ],
 "metadata": {
  "kernelspec": {
   "display_name": "Python 3 (ipykernel)",
   "language": "python",
   "name": "python3"
  },
  "language_info": {
   "codemirror_mode": {
    "name": "ipython",
    "version": 3
   },
   "file_extension": ".py",
   "mimetype": "text/x-python",
   "name": "python",
   "nbconvert_exporter": "python",
   "pygments_lexer": "ipython3",
   "version": "3.10.6"
  }
 },
 "nbformat": 4,
 "nbformat_minor": 5
}
