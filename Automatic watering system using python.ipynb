{
 "cells": [
  {
   "cell_type": "code",
   "execution_count": 4,
   "id": "96e82624",
   "metadata": {},
   "outputs": [
    {
     "name": "stdout",
     "output_type": "stream",
     "text": [
      "enter the state of soil :wet\n",
      "soil is wet\n",
      "watering system is deactivated now and not watering the field\n"
     ]
    }
   ],
   "source": [
    "\n",
    "class watering_system: \n",
    "    soil = \"0\"\n",
    "    def water_system(self):\n",
    "        self.soil = str(input(\"enter the state of soil :\"))\n",
    "        if self.soil == \"dry\":\n",
    "            # soil is dry\n",
    "            print(\"soil is dry\")\n",
    "            print(\"watering system is on and watering the field\")\n",
    "            print(\"watering system is activated\")\n",
    "            \n",
    "        elif self.soil == \"moist\":\n",
    "            # moist\n",
    "            print(\"soil is moist\")\n",
    "            print(\"watering system is off and not watering the field\")\n",
    "            \n",
    "        elif self.soil == \"wet\":\n",
    "            # wet\n",
    "            print(\"soil is wet\")\n",
    "            print(\"watering system is deactivated now and not watering the field\")\n",
    "        else :\n",
    "            print(\"system input is not valid\")\n",
    "            \n",
    "        \n",
    "        \n",
    "\n",
    "\n",
    "p1=watering_system()\n",
    "p1.water_system()"
   ]
  },
  {
   "cell_type": "code",
   "execution_count": null,
   "id": "2dd23bcc",
   "metadata": {},
   "outputs": [],
   "source": []
  },
  {
   "cell_type": "code",
   "execution_count": null,
   "id": "a5b6aec4",
   "metadata": {},
   "outputs": [],
   "source": []
  }
 ],
 "metadata": {
  "kernelspec": {
   "display_name": "Python 3 (ipykernel)",
   "language": "python",
   "name": "python3"
  },
  "language_info": {
   "codemirror_mode": {
    "name": "ipython",
    "version": 3
   },
   "file_extension": ".py",
   "mimetype": "text/x-python",
   "name": "python",
   "nbconvert_exporter": "python",
   "pygments_lexer": "ipython3",
   "version": "3.10.6"
  }
 },
 "nbformat": 4,
 "nbformat_minor": 5
}
